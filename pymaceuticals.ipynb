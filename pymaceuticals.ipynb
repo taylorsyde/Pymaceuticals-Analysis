{
 "cells": [
  {
   "cell_type": "markdown",
   "metadata": {},
   "source": [
    "## Observations and Insights "
   ]
  },
  {
   "cell_type": "markdown",
   "metadata": {},
   "source": []
  },
  {
   "cell_type": "code",
   "execution_count": 1,
   "metadata": {},
   "outputs": [
    {
     "data": {
      "text/html": [
       "<div>\n",
       "<style scoped>\n",
       "    .dataframe tbody tr th:only-of-type {\n",
       "        vertical-align: middle;\n",
       "    }\n",
       "\n",
       "    .dataframe tbody tr th {\n",
       "        vertical-align: top;\n",
       "    }\n",
       "\n",
       "    .dataframe thead th {\n",
       "        text-align: right;\n",
       "    }\n",
       "</style>\n",
       "<table border=\"1\" class=\"dataframe\">\n",
       "  <thead>\n",
       "    <tr style=\"text-align: right;\">\n",
       "      <th></th>\n",
       "      <th>Mouse ID</th>\n",
       "      <th>Drug Regimen</th>\n",
       "      <th>Sex</th>\n",
       "      <th>Age_months</th>\n",
       "      <th>Weight (g)</th>\n",
       "      <th>Timepoint</th>\n",
       "      <th>Tumor Volume (mm3)</th>\n",
       "      <th>Metastatic Sites</th>\n",
       "    </tr>\n",
       "  </thead>\n",
       "  <tbody>\n",
       "    <tr>\n",
       "      <th>0</th>\n",
       "      <td>k403</td>\n",
       "      <td>Ramicane</td>\n",
       "      <td>Male</td>\n",
       "      <td>21</td>\n",
       "      <td>16</td>\n",
       "      <td>0</td>\n",
       "      <td>45.000000</td>\n",
       "      <td>0</td>\n",
       "    </tr>\n",
       "    <tr>\n",
       "      <th>1</th>\n",
       "      <td>k403</td>\n",
       "      <td>Ramicane</td>\n",
       "      <td>Male</td>\n",
       "      <td>21</td>\n",
       "      <td>16</td>\n",
       "      <td>5</td>\n",
       "      <td>38.825898</td>\n",
       "      <td>0</td>\n",
       "    </tr>\n",
       "    <tr>\n",
       "      <th>2</th>\n",
       "      <td>k403</td>\n",
       "      <td>Ramicane</td>\n",
       "      <td>Male</td>\n",
       "      <td>21</td>\n",
       "      <td>16</td>\n",
       "      <td>10</td>\n",
       "      <td>35.014271</td>\n",
       "      <td>1</td>\n",
       "    </tr>\n",
       "    <tr>\n",
       "      <th>3</th>\n",
       "      <td>k403</td>\n",
       "      <td>Ramicane</td>\n",
       "      <td>Male</td>\n",
       "      <td>21</td>\n",
       "      <td>16</td>\n",
       "      <td>15</td>\n",
       "      <td>34.223992</td>\n",
       "      <td>1</td>\n",
       "    </tr>\n",
       "    <tr>\n",
       "      <th>4</th>\n",
       "      <td>k403</td>\n",
       "      <td>Ramicane</td>\n",
       "      <td>Male</td>\n",
       "      <td>21</td>\n",
       "      <td>16</td>\n",
       "      <td>20</td>\n",
       "      <td>32.997729</td>\n",
       "      <td>1</td>\n",
       "    </tr>\n",
       "    <tr>\n",
       "      <th>...</th>\n",
       "      <td>...</td>\n",
       "      <td>...</td>\n",
       "      <td>...</td>\n",
       "      <td>...</td>\n",
       "      <td>...</td>\n",
       "      <td>...</td>\n",
       "      <td>...</td>\n",
       "      <td>...</td>\n",
       "    </tr>\n",
       "    <tr>\n",
       "      <th>1888</th>\n",
       "      <td>z969</td>\n",
       "      <td>Naftisol</td>\n",
       "      <td>Male</td>\n",
       "      <td>9</td>\n",
       "      <td>30</td>\n",
       "      <td>25</td>\n",
       "      <td>63.145652</td>\n",
       "      <td>2</td>\n",
       "    </tr>\n",
       "    <tr>\n",
       "      <th>1889</th>\n",
       "      <td>z969</td>\n",
       "      <td>Naftisol</td>\n",
       "      <td>Male</td>\n",
       "      <td>9</td>\n",
       "      <td>30</td>\n",
       "      <td>30</td>\n",
       "      <td>65.841013</td>\n",
       "      <td>3</td>\n",
       "    </tr>\n",
       "    <tr>\n",
       "      <th>1890</th>\n",
       "      <td>z969</td>\n",
       "      <td>Naftisol</td>\n",
       "      <td>Male</td>\n",
       "      <td>9</td>\n",
       "      <td>30</td>\n",
       "      <td>35</td>\n",
       "      <td>69.176246</td>\n",
       "      <td>4</td>\n",
       "    </tr>\n",
       "    <tr>\n",
       "      <th>1891</th>\n",
       "      <td>z969</td>\n",
       "      <td>Naftisol</td>\n",
       "      <td>Male</td>\n",
       "      <td>9</td>\n",
       "      <td>30</td>\n",
       "      <td>40</td>\n",
       "      <td>70.314904</td>\n",
       "      <td>4</td>\n",
       "    </tr>\n",
       "    <tr>\n",
       "      <th>1892</th>\n",
       "      <td>z969</td>\n",
       "      <td>Naftisol</td>\n",
       "      <td>Male</td>\n",
       "      <td>9</td>\n",
       "      <td>30</td>\n",
       "      <td>45</td>\n",
       "      <td>73.867845</td>\n",
       "      <td>4</td>\n",
       "    </tr>\n",
       "  </tbody>\n",
       "</table>\n",
       "<p>1893 rows × 8 columns</p>\n",
       "</div>"
      ],
      "text/plain": [
       "     Mouse ID Drug Regimen   Sex  Age_months  Weight (g)  Timepoint  \\\n",
       "0        k403     Ramicane  Male          21          16          0   \n",
       "1        k403     Ramicane  Male          21          16          5   \n",
       "2        k403     Ramicane  Male          21          16         10   \n",
       "3        k403     Ramicane  Male          21          16         15   \n",
       "4        k403     Ramicane  Male          21          16         20   \n",
       "...       ...          ...   ...         ...         ...        ...   \n",
       "1888     z969     Naftisol  Male           9          30         25   \n",
       "1889     z969     Naftisol  Male           9          30         30   \n",
       "1890     z969     Naftisol  Male           9          30         35   \n",
       "1891     z969     Naftisol  Male           9          30         40   \n",
       "1892     z969     Naftisol  Male           9          30         45   \n",
       "\n",
       "      Tumor Volume (mm3)  Metastatic Sites  \n",
       "0              45.000000                 0  \n",
       "1              38.825898                 0  \n",
       "2              35.014271                 1  \n",
       "3              34.223992                 1  \n",
       "4              32.997729                 1  \n",
       "...                  ...               ...  \n",
       "1888           63.145652                 2  \n",
       "1889           65.841013                 3  \n",
       "1890           69.176246                 4  \n",
       "1891           70.314904                 4  \n",
       "1892           73.867845                 4  \n",
       "\n",
       "[1893 rows x 8 columns]"
      ]
     },
     "execution_count": 1,
     "metadata": {},
     "output_type": "execute_result"
    }
   ],
   "source": [
    "# Dependencies and Setup\n",
    "import matplotlib.pyplot as plt\n",
    "import pandas as pd\n",
    "from scipy.stats import linregress\n",
    "import numpy as np\n",
    "\n",
    "# Study data files\n",
    "mouse_metadata_path = \"data/Mouse_metadata.csv\"\n",
    "study_results_path = \"data/Study_results.csv\"\n",
    "\n",
    "# Read the mouse data and the study results\n",
    "mouse_metadata = pd.read_csv(mouse_metadata_path)\n",
    "study_results = pd.read_csv(study_results_path)\n",
    "\n",
    "# Combine the data into a single dataset\n",
    "complete_data = pd.merge(mouse_metadata,study_results, how=\"outer\", on=\"Mouse ID\")\n",
    "\n",
    "# Display the data table for preview\n",
    "complete_data"
   ]
  },
  {
   "cell_type": "code",
   "execution_count": 2,
   "metadata": {},
   "outputs": [
    {
     "data": {
      "text/plain": [
       "249"
      ]
     },
     "execution_count": 2,
     "metadata": {},
     "output_type": "execute_result"
    }
   ],
   "source": [
    "# Checking the number of mice\n",
    "len(complete_data['Mouse ID'].unique())"
   ]
  },
  {
   "cell_type": "code",
   "execution_count": 4,
   "metadata": {},
   "outputs": [
    {
     "data": {
      "text/html": [
       "<div>\n",
       "<style scoped>\n",
       "    .dataframe tbody tr th:only-of-type {\n",
       "        vertical-align: middle;\n",
       "    }\n",
       "\n",
       "    .dataframe tbody tr th {\n",
       "        vertical-align: top;\n",
       "    }\n",
       "\n",
       "    .dataframe thead th {\n",
       "        text-align: right;\n",
       "    }\n",
       "</style>\n",
       "<table border=\"1\" class=\"dataframe\">\n",
       "  <thead>\n",
       "    <tr style=\"text-align: right;\">\n",
       "      <th></th>\n",
       "      <th>Mouse ID</th>\n",
       "      <th>Drug Regimen</th>\n",
       "      <th>Sex</th>\n",
       "      <th>Age_months</th>\n",
       "      <th>Weight (g)</th>\n",
       "      <th>Timepoint</th>\n",
       "      <th>Tumor Volume (mm3)</th>\n",
       "      <th>Metastatic Sites</th>\n",
       "    </tr>\n",
       "  </thead>\n",
       "  <tbody>\n",
       "    <tr>\n",
       "      <th>909</th>\n",
       "      <td>g989</td>\n",
       "      <td>Propriva</td>\n",
       "      <td>Female</td>\n",
       "      <td>21</td>\n",
       "      <td>26</td>\n",
       "      <td>0</td>\n",
       "      <td>45.000000</td>\n",
       "      <td>0</td>\n",
       "    </tr>\n",
       "    <tr>\n",
       "      <th>911</th>\n",
       "      <td>g989</td>\n",
       "      <td>Propriva</td>\n",
       "      <td>Female</td>\n",
       "      <td>21</td>\n",
       "      <td>26</td>\n",
       "      <td>5</td>\n",
       "      <td>47.570392</td>\n",
       "      <td>0</td>\n",
       "    </tr>\n",
       "    <tr>\n",
       "      <th>913</th>\n",
       "      <td>g989</td>\n",
       "      <td>Propriva</td>\n",
       "      <td>Female</td>\n",
       "      <td>21</td>\n",
       "      <td>26</td>\n",
       "      <td>10</td>\n",
       "      <td>49.880528</td>\n",
       "      <td>0</td>\n",
       "    </tr>\n",
       "    <tr>\n",
       "      <th>915</th>\n",
       "      <td>g989</td>\n",
       "      <td>Propriva</td>\n",
       "      <td>Female</td>\n",
       "      <td>21</td>\n",
       "      <td>26</td>\n",
       "      <td>15</td>\n",
       "      <td>53.442020</td>\n",
       "      <td>0</td>\n",
       "    </tr>\n",
       "    <tr>\n",
       "      <th>917</th>\n",
       "      <td>g989</td>\n",
       "      <td>Propriva</td>\n",
       "      <td>Female</td>\n",
       "      <td>21</td>\n",
       "      <td>26</td>\n",
       "      <td>20</td>\n",
       "      <td>54.657650</td>\n",
       "      <td>1</td>\n",
       "    </tr>\n",
       "  </tbody>\n",
       "</table>\n",
       "</div>"
      ],
      "text/plain": [
       "    Mouse ID Drug Regimen     Sex  Age_months  Weight (g)  Timepoint  \\\n",
       "909     g989     Propriva  Female          21          26          0   \n",
       "911     g989     Propriva  Female          21          26          5   \n",
       "913     g989     Propriva  Female          21          26         10   \n",
       "915     g989     Propriva  Female          21          26         15   \n",
       "917     g989     Propriva  Female          21          26         20   \n",
       "\n",
       "     Tumor Volume (mm3)  Metastatic Sites  \n",
       "909           45.000000                 0  \n",
       "911           47.570392                 0  \n",
       "913           49.880528                 0  \n",
       "915           53.442020                 0  \n",
       "917           54.657650                 1  "
      ]
     },
     "execution_count": 4,
     "metadata": {},
     "output_type": "execute_result"
    }
   ],
   "source": [
    "#create filter to check for duplicated Mouse ID and Times\n",
    "complete_data.duplicated(subset = ['Mouse ID','Timepoint'])\n",
    "\n",
    "#show the any mice with duplicated data\n",
    "complete_data[complete_data.duplicated(subset = ['Mouse ID','Timepoint'])]"
   ]
  },
  {
   "cell_type": "code",
   "execution_count": 5,
   "metadata": {},
   "outputs": [],
   "source": [
    "# drop the Mouse with duped data\n",
    "\n",
    "# all data for g989 was dropped due to differences in the Tumor Volume\n",
    "#since we are unable to determine which is the valid data set, both sets were dropped. \n",
    "\n",
    "clean_data = complete_data.loc[(complete_data['Mouse ID'] != 'g989'),:]\n",
    "\n",
    "#check to make sure the dupe mouse was dropped\n",
    "#clean_data[clean_data.duplicated(subset = ['Mouse ID','Timepoint'])]\n",
    "\n",
    "# Checking the number of mice in the clean DataFrame.\n",
    "#len(clean_data['Mouse ID'].unique())"
   ]
  },
  {
   "cell_type": "markdown",
   "metadata": {},
   "source": [
    "## Summary Statistics"
   ]
  },
  {
   "cell_type": "code",
   "execution_count": 23,
   "metadata": {},
   "outputs": [
    {
     "data": {
      "text/html": [
       "<div>\n",
       "<style scoped>\n",
       "    .dataframe tbody tr th:only-of-type {\n",
       "        vertical-align: middle;\n",
       "    }\n",
       "\n",
       "    .dataframe tbody tr th {\n",
       "        vertical-align: top;\n",
       "    }\n",
       "\n",
       "    .dataframe thead th {\n",
       "        text-align: right;\n",
       "    }\n",
       "</style>\n",
       "<table border=\"1\" class=\"dataframe\">\n",
       "  <thead>\n",
       "    <tr style=\"text-align: right;\">\n",
       "      <th></th>\n",
       "      <th>Tumor Mean</th>\n",
       "      <th>Tumor Median</th>\n",
       "      <th>Tumor Variance</th>\n",
       "      <th>Tumor Standard Deviation</th>\n",
       "      <th>Standard Error of Mean</th>\n",
       "    </tr>\n",
       "    <tr>\n",
       "      <th>Drug Regimen</th>\n",
       "      <th></th>\n",
       "      <th></th>\n",
       "      <th></th>\n",
       "      <th></th>\n",
       "      <th></th>\n",
       "    </tr>\n",
       "  </thead>\n",
       "  <tbody>\n",
       "    <tr>\n",
       "      <th>Capomulin</th>\n",
       "      <td>40.675741</td>\n",
       "      <td>41.557809</td>\n",
       "      <td>24.947764</td>\n",
       "      <td>4.994774</td>\n",
       "      <td>0.329346</td>\n",
       "    </tr>\n",
       "    <tr>\n",
       "      <th>Ceftamin</th>\n",
       "      <td>52.591172</td>\n",
       "      <td>51.776157</td>\n",
       "      <td>39.290177</td>\n",
       "      <td>6.268188</td>\n",
       "      <td>0.469821</td>\n",
       "    </tr>\n",
       "    <tr>\n",
       "      <th>Infubinol</th>\n",
       "      <td>52.884795</td>\n",
       "      <td>51.820584</td>\n",
       "      <td>43.128684</td>\n",
       "      <td>6.567243</td>\n",
       "      <td>0.492236</td>\n",
       "    </tr>\n",
       "    <tr>\n",
       "      <th>Ketapril</th>\n",
       "      <td>55.235638</td>\n",
       "      <td>53.698743</td>\n",
       "      <td>68.553577</td>\n",
       "      <td>8.279709</td>\n",
       "      <td>0.603860</td>\n",
       "    </tr>\n",
       "    <tr>\n",
       "      <th>Naftisol</th>\n",
       "      <td>54.331565</td>\n",
       "      <td>52.509285</td>\n",
       "      <td>66.173479</td>\n",
       "      <td>8.134708</td>\n",
       "      <td>0.596466</td>\n",
       "    </tr>\n",
       "    <tr>\n",
       "      <th>Placebo</th>\n",
       "      <td>54.033581</td>\n",
       "      <td>52.288934</td>\n",
       "      <td>61.168083</td>\n",
       "      <td>7.821003</td>\n",
       "      <td>0.581331</td>\n",
       "    </tr>\n",
       "    <tr>\n",
       "      <th>Propriva</th>\n",
       "      <td>52.320930</td>\n",
       "      <td>50.446266</td>\n",
       "      <td>43.852013</td>\n",
       "      <td>6.622085</td>\n",
       "      <td>0.544332</td>\n",
       "    </tr>\n",
       "    <tr>\n",
       "      <th>Ramicane</th>\n",
       "      <td>40.216745</td>\n",
       "      <td>40.673236</td>\n",
       "      <td>23.486704</td>\n",
       "      <td>4.846308</td>\n",
       "      <td>0.320955</td>\n",
       "    </tr>\n",
       "    <tr>\n",
       "      <th>Stelasyn</th>\n",
       "      <td>54.233149</td>\n",
       "      <td>52.431737</td>\n",
       "      <td>59.450562</td>\n",
       "      <td>7.710419</td>\n",
       "      <td>0.573111</td>\n",
       "    </tr>\n",
       "    <tr>\n",
       "      <th>Zoniferol</th>\n",
       "      <td>53.236507</td>\n",
       "      <td>51.818479</td>\n",
       "      <td>48.533355</td>\n",
       "      <td>6.966589</td>\n",
       "      <td>0.516398</td>\n",
       "    </tr>\n",
       "  </tbody>\n",
       "</table>\n",
       "</div>"
      ],
      "text/plain": [
       "              Tumor Mean  Tumor Median  Tumor Variance  \\\n",
       "Drug Regimen                                             \n",
       "Capomulin      40.675741     41.557809       24.947764   \n",
       "Ceftamin       52.591172     51.776157       39.290177   \n",
       "Infubinol      52.884795     51.820584       43.128684   \n",
       "Ketapril       55.235638     53.698743       68.553577   \n",
       "Naftisol       54.331565     52.509285       66.173479   \n",
       "Placebo        54.033581     52.288934       61.168083   \n",
       "Propriva       52.320930     50.446266       43.852013   \n",
       "Ramicane       40.216745     40.673236       23.486704   \n",
       "Stelasyn       54.233149     52.431737       59.450562   \n",
       "Zoniferol      53.236507     51.818479       48.533355   \n",
       "\n",
       "              Tumor Standard Deviation  Standard Error of Mean  \n",
       "Drug Regimen                                                    \n",
       "Capomulin                     4.994774                0.329346  \n",
       "Ceftamin                      6.268188                0.469821  \n",
       "Infubinol                     6.567243                0.492236  \n",
       "Ketapril                      8.279709                0.603860  \n",
       "Naftisol                      8.134708                0.596466  \n",
       "Placebo                       7.821003                0.581331  \n",
       "Propriva                      6.622085                0.544332  \n",
       "Ramicane                      4.846308                0.320955  \n",
       "Stelasyn                      7.710419                0.573111  \n",
       "Zoniferol                     6.966589                0.516398  "
      ]
     },
     "execution_count": 23,
     "metadata": {},
     "output_type": "execute_result"
    }
   ],
   "source": [
    "#the following summary table was generated using the groupby method\n",
    "\n",
    "#group data by Drug Regimen\n",
    "by_regimen = clean_data.groupby('Drug Regimen')\n",
    "\n",
    "#pull and store mean, median, variance, standard deviation, and SEM of the tumor volume.\n",
    "tvmean_by_reg = by_regimen['Tumor Volume (mm3)'].mean()\n",
    "tvmedian_by_reg = by_regimen['Tumor Volume (mm3)'].median()\n",
    "tvvar_by_reg = by_regimen['Tumor Volume (mm3)'].var()\n",
    "tvstd_by_reg = by_regimen['Tumor Volume (mm3)'].std()\n",
    "tvsem_by_reg = by_regimen['Tumor Volume (mm3)'].sem()\n",
    "\n",
    "#create summary dataframe from a ditonary\n",
    "tumor_by_regimen = pd.DataFrame({\n",
    "    \"Tumor Mean\": tvmean_by_reg,\n",
    "    \"Tumor Median\": tvmedian_by_reg,\n",
    "    \"Tumor Variance\": tvvar_by_reg,\n",
    "    \"Tumor Standard Deviation\": tvstd_by_reg,\n",
    "    \"Standard Error of Mean\": tvsem_by_reg\n",
    "})\n",
    "\n",
    "#display stats summary\n",
    "tumor_by_regimen"
   ]
  },
  {
   "cell_type": "code",
   "execution_count": 9,
   "metadata": {},
   "outputs": [
    {
     "data": {
      "text/html": [
       "<div>\n",
       "<style scoped>\n",
       "    .dataframe tbody tr th:only-of-type {\n",
       "        vertical-align: middle;\n",
       "    }\n",
       "\n",
       "    .dataframe tbody tr th {\n",
       "        vertical-align: top;\n",
       "    }\n",
       "\n",
       "    .dataframe thead th {\n",
       "        text-align: right;\n",
       "    }\n",
       "</style>\n",
       "<table border=\"1\" class=\"dataframe\">\n",
       "  <thead>\n",
       "    <tr style=\"text-align: right;\">\n",
       "      <th></th>\n",
       "      <th>mean</th>\n",
       "      <th>median</th>\n",
       "      <th>var</th>\n",
       "      <th>std</th>\n",
       "      <th>sem</th>\n",
       "    </tr>\n",
       "    <tr>\n",
       "      <th>Drug Regimen</th>\n",
       "      <th></th>\n",
       "      <th></th>\n",
       "      <th></th>\n",
       "      <th></th>\n",
       "      <th></th>\n",
       "    </tr>\n",
       "  </thead>\n",
       "  <tbody>\n",
       "    <tr>\n",
       "      <th>Capomulin</th>\n",
       "      <td>40.675741</td>\n",
       "      <td>41.557809</td>\n",
       "      <td>24.947764</td>\n",
       "      <td>4.994774</td>\n",
       "      <td>0.329346</td>\n",
       "    </tr>\n",
       "    <tr>\n",
       "      <th>Ceftamin</th>\n",
       "      <td>52.591172</td>\n",
       "      <td>51.776157</td>\n",
       "      <td>39.290177</td>\n",
       "      <td>6.268188</td>\n",
       "      <td>0.469821</td>\n",
       "    </tr>\n",
       "    <tr>\n",
       "      <th>Infubinol</th>\n",
       "      <td>52.884795</td>\n",
       "      <td>51.820584</td>\n",
       "      <td>43.128684</td>\n",
       "      <td>6.567243</td>\n",
       "      <td>0.492236</td>\n",
       "    </tr>\n",
       "    <tr>\n",
       "      <th>Ketapril</th>\n",
       "      <td>55.235638</td>\n",
       "      <td>53.698743</td>\n",
       "      <td>68.553577</td>\n",
       "      <td>8.279709</td>\n",
       "      <td>0.603860</td>\n",
       "    </tr>\n",
       "    <tr>\n",
       "      <th>Naftisol</th>\n",
       "      <td>54.331565</td>\n",
       "      <td>52.509285</td>\n",
       "      <td>66.173479</td>\n",
       "      <td>8.134708</td>\n",
       "      <td>0.596466</td>\n",
       "    </tr>\n",
       "    <tr>\n",
       "      <th>Placebo</th>\n",
       "      <td>54.033581</td>\n",
       "      <td>52.288934</td>\n",
       "      <td>61.168083</td>\n",
       "      <td>7.821003</td>\n",
       "      <td>0.581331</td>\n",
       "    </tr>\n",
       "    <tr>\n",
       "      <th>Propriva</th>\n",
       "      <td>52.320930</td>\n",
       "      <td>50.446266</td>\n",
       "      <td>43.852013</td>\n",
       "      <td>6.622085</td>\n",
       "      <td>0.544332</td>\n",
       "    </tr>\n",
       "    <tr>\n",
       "      <th>Ramicane</th>\n",
       "      <td>40.216745</td>\n",
       "      <td>40.673236</td>\n",
       "      <td>23.486704</td>\n",
       "      <td>4.846308</td>\n",
       "      <td>0.320955</td>\n",
       "    </tr>\n",
       "    <tr>\n",
       "      <th>Stelasyn</th>\n",
       "      <td>54.233149</td>\n",
       "      <td>52.431737</td>\n",
       "      <td>59.450562</td>\n",
       "      <td>7.710419</td>\n",
       "      <td>0.573111</td>\n",
       "    </tr>\n",
       "    <tr>\n",
       "      <th>Zoniferol</th>\n",
       "      <td>53.236507</td>\n",
       "      <td>51.818479</td>\n",
       "      <td>48.533355</td>\n",
       "      <td>6.966589</td>\n",
       "      <td>0.516398</td>\n",
       "    </tr>\n",
       "  </tbody>\n",
       "</table>\n",
       "</div>"
      ],
      "text/plain": [
       "                   mean     median        var       std       sem\n",
       "Drug Regimen                                                     \n",
       "Capomulin     40.675741  41.557809  24.947764  4.994774  0.329346\n",
       "Ceftamin      52.591172  51.776157  39.290177  6.268188  0.469821\n",
       "Infubinol     52.884795  51.820584  43.128684  6.567243  0.492236\n",
       "Ketapril      55.235638  53.698743  68.553577  8.279709  0.603860\n",
       "Naftisol      54.331565  52.509285  66.173479  8.134708  0.596466\n",
       "Placebo       54.033581  52.288934  61.168083  7.821003  0.581331\n",
       "Propriva      52.320930  50.446266  43.852013  6.622085  0.544332\n",
       "Ramicane      40.216745  40.673236  23.486704  4.846308  0.320955\n",
       "Stelasyn      54.233149  52.431737  59.450562  7.710419  0.573111\n",
       "Zoniferol     53.236507  51.818479  48.533355  6.966589  0.516398"
      ]
     },
     "execution_count": 9,
     "metadata": {},
     "output_type": "execute_result"
    }
   ],
   "source": [
    "#the following summary table was generated using the aggregation method\n",
    "by_regimen['Tumor Volume (mm3)'].aggregate(['mean','median','var','std','sem'])"
   ]
  },
  {
   "cell_type": "markdown",
   "metadata": {},
   "source": [
    "## Bar and Pie Charts"
   ]
  },
  {
   "cell_type": "code",
   "execution_count": 10,
   "metadata": {},
   "outputs": [
    {
     "data": {
      "image/png": "[encoded data removed]",
      "text/plain": [
       "<Figure size 432x288 with 1 Axes>"
      ]
     },
     "metadata": {
      "needs_background": "light"
     },
     "output_type": "display_data"
    }
   ],
   "source": [
    "# Generate a bar plot showing the total number of timepoints for all mice tested for each drug regimen using Pandas\n",
    "count_by_drug = clean_data['Drug Regimen'].value_counts()\n",
    "\n",
    "#plot directly form series\n",
    "count_by_drug.plot(kind='bar', color=\"purple\",alpha=0.6,width=0.8,)\n",
    "\n",
    "plt.xticks(rotation = 45) \n",
    "plt.title('Time Data Collected By Drug')\n",
    "plt.show()"
   ]
  },
  {
   "cell_type": "code",
   "execution_count": 11,
   "metadata": {},
   "outputs": [
    {
     "data": {
      "text/plain": [
       "<function matplotlib.pyplot.show(close=None, block=None)>"
      ]
     },
     "execution_count": 11,
     "metadata": {},
     "output_type": "execute_result"
    },
    {
     "data": {
      "image/png": "[encoded data removed]",
      "text/plain": [
       "<Figure size 432x288 with 1 Axes>"
      ]
     },
     "metadata": {
      "needs_background": "light"
     },
     "output_type": "display_data"
    }
   ],
   "source": [
    "# Generate a bar plot showing the total number of timepoints for all mice tested for each drug regimen using pyPlot\n",
    "\n",
    "#create variables with data\n",
    "time_by_drug = clean_data['Drug Regimen'].value_counts()\n",
    "drug_names = clean_data['Drug Regimen'].unique()\n",
    "\n",
    "#plot the data using variables\n",
    "plt.bar(drug_names,time_by_drug,color=\"purple\",alpha=0.6,width=0.8)\n",
    "\n",
    "#format and label\n",
    "plt.xticks(rotation = 45) \n",
    "plt.title('Time Data Collected By Drug')\n",
    "plt.xlabel('Drug Regimen')\n",
    "plt.ylabel('TimePoints Collected')\n",
    "plt.show"
   ]
  },
  {
   "cell_type": "code",
   "execution_count": 12,
   "metadata": {},
   "outputs": [
    {
     "data": {
      "image/png": "[encoded data removed]",
      "text/plain": [
       "<Figure size 432x288 with 1 Axes>"
      ]
     },
     "metadata": {},
     "output_type": "display_data"
    }
   ],
   "source": [
    "# Generate a pie plot showing the distribution of female versus male mice using pyplot\n",
    "\n",
    "#creating my variables\n",
    "sex_counts = clean_data['Sex'].value_counts()\n",
    "sex_labels = clean_data['Sex'].unique()\n",
    "colors = ['lightblue','lightcoral']\n",
    "explode = (0.1,0)\n",
    "\n",
    "#plotting using the plt.pie function\n",
    "plt.pie(sex_counts, explode=explode, labels=sex_labels, colors=colors,\n",
    "        autopct=\"%1.1f%%\", shadow=True, startangle=140)\n",
    "plt.title('Sex Distribution Of Mice')\n",
    "plt.show()"
   ]
  },
  {
   "cell_type": "code",
   "execution_count": 13,
   "metadata": {},
   "outputs": [
    {
     "data": {
      "text/plain": [
       "<AxesSubplot:title={'center':'Sex Distribution Of Mice'}, ylabel='Sex'>"
      ]
     },
     "execution_count": 13,
     "metadata": {},
     "output_type": "execute_result"
    },
    {
     "data": {
      "image/png": "[encoded data removed]",
      "text/plain": [
       "<Figure size 432x288 with 1 Axes>"
      ]
     },
     "metadata": {},
     "output_type": "display_data"
    }
   ],
   "source": [
    "# Generate a pie plot showing the distribution of female versus male mice using Pandas\n",
    "sex = clean_data['Sex'].value_counts()\n",
    "\n",
    "#plot pie chart directly from the dataframe\n",
    "sex.plot(kind='pie', colors=['lightblue','lightcoral'], explode = (0.1,0), \n",
    "         shadow=True, startangle=140, autopct=\"%1.1f%%\",\n",
    "         title = 'Sex Distribution Of Mice')"
   ]
  },
  {
   "cell_type": "markdown",
   "metadata": {},
   "source": [
    "## Quartiles, Outliers and Boxplots"
   ]
  },
  {
   "cell_type": "code",
   "execution_count": 31,
   "metadata": {},
   "outputs": [],
   "source": [
    "# Calculate the final tumor volume of each mouse across four of the treatment regimens:  \n",
    "# Capomulin, Ramicane, Infubinol, and Ceftamin\n",
    "\n",
    "# pull data for only those 4 drug trials\n",
    "focus_drugs = clean_data.loc[(clean_data['Drug Regimen'] == 'Ramicane')|\n",
    "                             (clean_data['Drug Regimen'] == 'Capomulin')|\n",
    "                             (clean_data['Drug Regimen'] == 'Infubinol')|\n",
    "                             (clean_data['Drug Regimen'] == 'Ceftamin')|\n",
    "                             (clean_data['Drug Regimen'] == 'Placebo'),\n",
    "                             :]\n",
    "#verifyed dataframe with ---> focus_drugs['Drug Regimen'].unique()\n",
    "# 100 mice in this sub group\n",
    "\n",
    "#grouped by mouse id and pulled the final(max) timepoint for each mouse\n",
    "maxtime_focus_group = focus_drugs.groupby(['Mouse ID'])['Timepoint'].max().reset_index()\n",
    "\n",
    "#merged the max timepoint with full data set to recomplete the data set\n",
    "focus_group_tv_results = pd.merge(maxtime_focus_group,complete_data, on=['Mouse ID','Timepoint'],how='left')\n",
    "\n",
    "#verified that the focus group and final data frame contained the same mice IDs after the merge\n",
    "#focus_id_1 = focus_group_final_tv['Mouse ID'].unique().sort()\n",
    "#focus_id_2 = focus_drugs['Mouse ID'].unique().sort()\n",
    "#np.array_equal(focus_id_1, focus_id_2) = True"
   ]
  },
  {
   "cell_type": "code",
   "execution_count": 15,
   "metadata": {},
   "outputs": [],
   "source": [
    "#function for calculate statical data from each focus group    \n",
    "def stat_summary(series, name):\n",
    "    quartiles = series.quantile([.25,.5,.75])\n",
    "    lowerq = quartiles[0.25]\n",
    "    upperq = quartiles[0.75]\n",
    "    iqr = upperq-lowerq\n",
    "    lower_bound = lowerq - (1.5*iqr)\n",
    "    upper_bound = upperq + (1.5*iqr)\n",
    "    outliers = series.loc[(series < lower_bound) | (series > upper_bound)]\n",
    "    \n",
    "    print(f'{name} Stat Summary')\n",
    "    print('----------------------------')\n",
    "    print(f\"lower quartile = {lowerq}\")\n",
    "    print(f\"upper quartile = {upperq}\")\n",
    "    print(f\"median = {quartiles[0.5]} \")\n",
    "    print(f\"IQR = {iqr}\")\n",
    "    print('----------------------------')\n",
    "    print(f'The lower boundary is {lower_bound}. and the upper boundary is {upper_bound}.')\n",
    "    print('----------------------------')\n",
    "    if len(outliers)>0:\n",
    "        print(f'{name} has {len(outliers)} potential outlier(s).')\n",
    "        print(f'Outliers(index, final tumor volume): {outliers}')\n",
    "    else:\n",
    "        print(f'{name} has no potential outliers.')\n",
    "    "
   ]
  },
  {
   "cell_type": "code",
   "execution_count": 16,
   "metadata": {},
   "outputs": [
    {
     "name": "stdout",
     "output_type": "stream",
     "text": [
      "Infubinol Stat Summary\n",
      "----------------------------\n",
      "lower quartile = 54.04860769\n",
      "upper quartile = 65.52574285\n",
      "median = 60.16518046 \n",
      "IQR = 11.477135160000003\n",
      "----------------------------\n",
      "The lower boundary is 36.83290494999999. and the upper boundary is 82.74144559000001.\n",
      "----------------------------\n",
      "Infubinol has 1 potential outlier(s).\n",
      "Outliers(index, final tumor volume): 15    36.321346\n",
      "Name: Tumor Volume (mm3), dtype: float64\n"
     ]
    }
   ],
   "source": [
    "infubinol_tv = focus_group_tv_results.loc[(focus_group_tv_results['Drug Regimen'] == 'Infubinol'),:]\n",
    "stat_summary(infubinol_tv['Tumor Volume (mm3)'], 'Infubinol')"
   ]
  },
  {
   "cell_type": "code",
   "execution_count": 30,
   "metadata": {},
   "outputs": [
    {
     "data": {
      "text/plain": [
       "Mouse ID                   c326\n",
       "Timepoint                     5\n",
       "Drug Regimen          Infubinol\n",
       "Sex                      Female\n",
       "Age_months                   18\n",
       "Weight (g)                   25\n",
       "Tumor Volume (mm3)    36.321346\n",
       "Metastatic Sites              0\n",
       "Name: 15, dtype: object"
      ]
     },
     "execution_count": 30,
     "metadata": {},
     "output_type": "execute_result"
    }
   ],
   "source": [
    "#display information on outlier mouse\n",
    "infubinol_tv.iloc[5,:]"
   ]
  },
  {
   "cell_type": "code",
   "execution_count": 17,
   "metadata": {},
   "outputs": [
    {
     "name": "stdout",
     "output_type": "stream",
     "text": [
      "Ceftamin Stat Summary\n",
      "----------------------------\n",
      "lower quartile = 48.72207785\n",
      "upper quartile = 64.29983003\n",
      "median = 59.85195552 \n",
      "IQR = 15.577752179999997\n",
      "----------------------------\n",
      "The lower boundary is 25.355449580000002. and the upper boundary is 87.66645829999999.\n",
      "----------------------------\n",
      "Ceftamin has no potential outliers.\n"
     ]
    }
   ],
   "source": [
    "ceftamin_tv = focus_group_tv_results.loc[(focus_group_tv_results['Drug Regimen'] == 'Ceftamin'),:]\n",
    "stat_summary(ceftamin_tv['Tumor Volume (mm3)'], 'Ceftamin')"
   ]
  },
  {
   "cell_type": "code",
   "execution_count": 18,
   "metadata": {},
   "outputs": [
    {
     "name": "stdout",
     "output_type": "stream",
     "text": [
      "Ramicane Stat Summary\n",
      "----------------------------\n",
      "lower quartile = 31.56046955\n",
      "upper quartile = 40.65900627\n",
      "median = 36.56165229 \n",
      "IQR = 9.098536719999998\n",
      "----------------------------\n",
      "The lower boundary is 17.912664470000003. and the upper boundary is 54.30681135.\n",
      "----------------------------\n",
      "Ramicane has no potential outliers.\n"
     ]
    }
   ],
   "source": [
    "ramicane_tv = focus_group_tv_results.loc[(focus_group_tv_results['Drug Regimen'] == 'Ramicane'),:]\n",
    "stat_summary(ramicane_tv['Tumor Volume (mm3)'], 'Ramicane')"
   ]
  },
  {
   "cell_type": "code",
   "execution_count": 19,
   "metadata": {},
   "outputs": [
    {
     "name": "stdout",
     "output_type": "stream",
     "text": [
      "Capomulin Stat Summary\n",
      "----------------------------\n",
      "lower quartile = 32.37735684\n",
      "upper quartile = 40.1592203\n",
      "median = 38.1251644 \n",
      "IQR = 7.781863460000004\n",
      "----------------------------\n",
      "The lower boundary is 20.70456164999999. and the upper boundary is 51.83201549.\n",
      "----------------------------\n",
      "Capomulin has no potential outliers.\n"
     ]
    }
   ],
   "source": [
    "capomulin_tv = focus_group_tv_results.loc[(focus_group_tv_results['Drug Regimen'] == 'Capomulin'),:]\n",
    "stat_summary(capomulin_tv['Tumor Volume (mm3)'], 'Capomulin')"
   ]
  },
  {
   "cell_type": "code",
   "execution_count": 32,
   "metadata": {},
   "outputs": [
    {
     "name": "stdout",
     "output_type": "stream",
     "text": [
      "Placebo Stat Summary\n",
      "----------------------------\n",
      "lower quartile = 52.94290169\n",
      "upper quartile = 68.13428817\n",
      "median = 62.03059364 \n",
      "IQR = 15.191386480000006\n",
      "----------------------------\n",
      "The lower boundary is 30.15582196999999. and the upper boundary is 90.92136789000001.\n",
      "----------------------------\n",
      "Placebo has no potential outliers.\n"
     ]
    }
   ],
   "source": [
    "placebo_tv = focus_group_tv_results.loc[(focus_group_tv_results['Drug Regimen'] == 'Placebo'),:]\n",
    "stat_summary(placebo_tv['Tumor Volume (mm3)'], 'Placebo')"
   ]
  },
  {
   "cell_type": "code",
   "execution_count": 35,
   "metadata": {},
   "outputs": [
    {
     "data": {
      "image/png": "[encoded data removed]",
      "text/plain": [
       "<Figure size 432x288 with 1 Axes>"
      ]
     },
     "metadata": {
      "needs_background": "light"
     },
     "output_type": "display_data"
    }
   ],
   "source": [
    "# Generate a box plot of the final tumor volume of each mouse across four regimens of interest(fox box plots on the same diagram)\n",
    "labels = ['Placebo','Infubinol', 'Ceftamin', 'Ramicane', 'Capomulin']\n",
    "\n",
    "infu = infubinol_tv['Tumor Volume (mm3)']\n",
    "ceft = ceftamin_tv['Tumor Volume (mm3)']\n",
    "rami = ramicane_tv['Tumor Volume (mm3)']\n",
    "capo = capomulin_tv['Tumor Volume (mm3)']\n",
    "plac = placebo_tv['Tumor Volume (mm3)']\n",
    "\n",
    "drugs = [plac,infu,ceft,rami,capo]\n",
    "\n",
    "# Example outlier plot of reaction times\n",
    "fig1, ax = plt.subplots()\n",
    "ax.set_title('Tumor Volume Results by Drug Reg')\n",
    "ax.set_ylabel('Tumor Volume')\n",
    "ax.boxplot(drugs, meanline=True, showmeans=True)\n",
    "plt.xticks([1,2,3,4,5], labels)\n",
    "plt.show() \n"
   ]
  },
  {
   "cell_type": "markdown",
   "metadata": {},
   "source": [
    "## Line and Scatter Plots"
   ]
  },
  {
   "cell_type": "code",
   "execution_count": 21,
   "metadata": {},
   "outputs": [
    {
     "data": {
      "text/plain": [
       "<function matplotlib.pyplot.show(close=None, block=None)>"
      ]
     },
     "execution_count": 21,
     "metadata": {},
     "output_type": "execute_result"
    },
    {
     "data": {
      "image/png": "[encoded data removed]",
      "text/plain": [
       "<Figure size 432x288 with 1 Axes>"
      ]
     },
     "metadata": {
      "needs_background": "light"
     },
     "output_type": "display_data"
    }
   ],
   "source": [
    "# Generate a line plot of tumor volume vs. time point for a mouse treated with Capomulin\n",
    "\n",
    "# select for only capomulin mice\n",
    "capo_mice = clean_data.loc[(clean_data['Drug Regimen'] == 'Capomulin'),:]\n",
    "\n",
    "#select single capomulin mouse\n",
    "capo_mouse = capo_mice.loc[(clean_data['Mouse ID'] == 'm957'),:]\n",
    "capo_mouse_x = capo_mouse['Timepoint']\n",
    "capo_mouse_y = capo_mouse['Tumor Volume (mm3)']\n",
    "\n",
    "#format graph\n",
    "plt.plot(capo_mouse_x,capo_mouse_y, color='blue', alpha=0.5, marker='s', linestyle='dashed')\n",
    "plt.title('Tumor Progression for Mouse m957')\n",
    "plt.xlabel('Days')\n",
    "plt.ylabel('Tumor Volume (mm3)')\n",
    "plt.show"
   ]
  },
  {
   "cell_type": "markdown",
   "metadata": {},
   "source": [
    "## Correlation and Regression"
   ]
  },
  {
   "cell_type": "code",
   "execution_count": 38,
   "metadata": {},
   "outputs": [
    {
     "data": {
      "image/png": "[encoded data removed]",
      "text/plain": [
       "<Figure size 432x288 with 1 Axes>"
      ]
     },
     "metadata": {
      "needs_background": "light"
     },
     "output_type": "display_data"
    }
   ],
   "source": [
    "# Generate a scatter plot of average tumor volume vs. mouse weight for the Capomulin regimen\n",
    "\n",
    "#create variables\n",
    "capo_mice_avg_tv = capo_mice.groupby('Mouse ID')['Tumor Volume (mm3)'].mean()\n",
    "capo_mice_avg_wg = capo_mice.groupby('Mouse ID')['Weight (g)'].mean()\n",
    "capo_mice_avg_wg\n",
    "\n",
    "plt.scatter(capo_mice_avg_tv, capo_mice_avg_wg)\n",
    "plt.title('Tumor Volume vs. Weight in Capomulin Mice Trials')\n",
    "plt.xlabel('Average Tumor Volume (mm3)')\n",
    "plt.ylabel('Mouse Weight (g)')\n",
    "\n",
    "(slope, intercept, rvalue, pvalue, stderr) = linregress(capo_mice_avg_tv, capo_mice_avg_wg)\n",
    "regress_values = capo_mice_avg_tv * slope + intercept\n",
    "line_eq = \"y = \" + str(round(slope,2)) + \"x + \" + str(round(intercept,2))\n",
    "plt.plot(capo_mice_avg_tv,regress_values,\"r-\")\n",
    "plt.annotate(line_eq,(40,16),fontsize=15,color=\"red\")\n",
    "\n",
    "plt.show()"
   ]
  }
 ],
 "metadata": {
  "anaconda-cloud": {},
  "kernelspec": {
   "display_name": "PythonData",
   "language": "python",
   "name": "pythondata"
  },
  "language_info": {
   "codemirror_mode": {
    "name": "ipython",
    "version": 3
   },
   "file_extension": ".py",
   "mimetype": "text/x-python",
   "name": "python",
   "nbconvert_exporter": "python",
   "pygments_lexer": "ipython3",
   "version": "3.8.8"
  }
 },
 "nbformat": 4,
 "nbformat_minor": 4
}
